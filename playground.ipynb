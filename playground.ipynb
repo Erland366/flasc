{
 "cells": [
  {
   "cell_type": "markdown",
   "metadata": {},
   "source": [
    "# Study the simple setting\n",
    "\n",
    "finetune two models and merge; can also do it in the FL setting"
   ]
  },
  {
   "cell_type": "code",
   "execution_count": 1,
   "metadata": {},
   "outputs": [
    {
     "name": "stderr",
     "output_type": "stream",
     "text": [
      "/home/xingyu/anaconda3/envs/flasc/lib/python3.10/site-packages/tqdm/auto.py:21: TqdmWarning: IProgress not found. Please update jupyter and ipywidgets. See https://ipywidgets.readthedocs.io/en/stable/user_install.html\n",
      "  from .autonotebook import tqdm as notebook_tqdm\n",
      "2025-04-10 14:33:28.044275: I tensorflow/core/util/port.cc:153] oneDNN custom operations are on. You may see slightly different numerical results due to floating-point round-off errors from different computation orders. To turn them off, set the environment variable `TF_ENABLE_ONEDNN_OPTS=0`.\n",
      "2025-04-10 14:33:28.063784: I tensorflow/core/platform/cpu_feature_guard.cc:210] This TensorFlow binary is optimized to use available CPU instructions in performance-critical operations.\n",
      "To enable the following instructions: AVX2 AVX_VNNI FMA, in other operations, rebuild TensorFlow with the appropriate compiler flags.\n"
     ]
    }
   ],
   "source": [
    "from merging import MergingFactory\n",
    "from tqdm import tqdm\n",
    "from copy import deepcopy\n",
    "import data_utils\n",
    "import torch\n",
    "from train_utils import get_metric\n",
    "from copy import deepcopy\n",
    "from torch import nn\n",
    "import matplotlib.pyplot as plt\n",
    "\n",
    "def get_distance(model1, model2):\n",
    "    distance = 0\n",
    "    for n, p in model1.named_parameters():\n",
    "        if p.requires_grad:\n",
    "            distance += torch.sum((p - model2.state_dict()[n]) ** 2)\n",
    "    return distance"
   ]
  },
  {
   "cell_type": "code",
   "execution_count": 2,
   "metadata": {},
   "outputs": [
    {
     "data": {
      "text/plain": [
       "<torch._C.Generator at 0x793f7d32b7d0>"
      ]
     },
     "execution_count": 2,
     "metadata": {},
     "output_type": "execute_result"
    }
   ],
   "source": [
    "class args:\n",
    "    dataset=\"20newsgroups\"\n",
    "    client_batch=16\n",
    "    clients=100\n",
    "    iid_alpha=0.1  # the lower, the more non-iid\n",
    "    seed=0\n",
    "    eval_frac=1.0\n",
    "    lora_rank=16\n",
    "    lora_alpha=16\n",
    "    freeze_a = \"false\"\n",
    "    merging_strategy = \"average\"\n",
    "    return_peft_model = False  # use peft model or just add adapters; for nvative peft merging\n",
    "    \n",
    "# set seed for debugging\n",
    "import random\n",
    "import numpy as np\n",
    "import torch\n",
    "from transformers import set_seed\n",
    "set_seed(args.seed)\n",
    "random.seed(args.seed)\n",
    "np.random.seed(args.seed)\n",
    "torch.manual_seed(args.seed)\n",
    "# torch.cuda.manual_seed_all(args.seed)\n",
    "# torch.backends.cudnn.deterministic = True\n",
    "# torch.backends.cudnn.benchmark = False"
   ]
  },
  {
   "cell_type": "markdown",
   "metadata": {},
   "source": [
    "## prepare models and dataloaders"
   ]
  },
  {
   "cell_type": "code",
   "execution_count": 3,
   "metadata": {},
   "outputs": [
    {
     "name": "stdout",
     "output_type": "stream",
     "text": [
      "Found 20 classes\n"
     ]
    },
    {
     "name": "stderr",
     "output_type": "stream",
     "text": [
      "Some weights of GPT2ForSequenceClassification were not initialized from the model checkpoint at gpt2 and are newly initialized: ['score.weight']\n",
      "You should probably TRAIN this model on a down-stream task to be able to use it for predictions and inference.\n"
     ]
    },
    {
     "name": "stdout",
     "output_type": "stream",
     "text": [
      "Training 2374656 parameters (1.91% of original 124455168)\n"
     ]
    },
    {
     "name": "stderr",
     "output_type": "stream",
     "text": [
      "/home/xingyu/anaconda3/envs/flasc/lib/python3.10/site-packages/peft/tuners/lora/layer.py:1264: UserWarning: fan_in_fan_out is set to False but the target module is `Conv1D`. Setting fan_in_fan_out to True.\n",
      "  warnings.warn(\n"
     ]
    }
   ],
   "source": [
    "clients, valloader, testloader, test_batch = data_utils.build_dataset(args.dataset,\n",
    "                                                                      args.client_batch,\n",
    "                                                                      args.clients,\n",
    "                                                                      args.iid_alpha, args.seed, args.eval_frac)\n",
    "\n",
    "import models\n",
    "model = models.build_model(args.dataset)\n",
    "total = sum(p.numel() for p in model.parameters() if p.requires_grad)\n",
    "\n",
    "peft_model = models.add_adapters_dataset(args.dataset, model, args.lora_rank,\n",
    "                                args.lora_alpha, ft_output_layer=True,\n",
    "                                return_peft_model=args.return_peft_model)\n",
    "if args.return_peft_model:\n",
    "    model = peft_model\n",
    "    \n",
    "def str2bool(s):\n",
    "    return s.lower() == 'true'\n",
    "\n",
    "if str2bool(args.freeze_a):\n",
    "    for n,p in model.named_parameters():\n",
    "        if \"lora_A\" in n:\n",
    "            p.requires_grad = False\n",
    "\n",
    "trainable = sum(p.numel() for p in model.parameters() if p.requires_grad)\n",
    "print(f\"Training {trainable} parameters ({100*trainable/total:.2f}% of original {total})\")\n",
    "device = torch.device(\"cuda:0\" if torch.cuda.is_available() else \"cpu\")"
   ]
  },
  {
   "cell_type": "markdown",
   "metadata": {},
   "source": [
    "## training"
   ]
  },
  {
   "cell_type": "code",
   "execution_count": 4,
   "metadata": {},
   "outputs": [],
   "source": [
    "server_freeze = False\n",
    "server_lr = 1e-3 # for the original fedavg, this is one; for others like fedadam, we can set it to 1e-3"
   ]
  },
  {
   "cell_type": "code",
   "execution_count": 5,
   "metadata": {},
   "outputs": [],
   "source": [
    "server_model = model\n",
    "orig_server_model = deepcopy(server_model)  # backup if need\n",
    "\n",
    "server_params = {n:p for n,p in server_model.named_parameters() if p.requires_grad}\n",
    "server_mask = {n:torch.ones_like(p) for n,p in server_params.items()}\n",
    "server_freeze = False\n",
    "if server_freeze:\n",
    "    for p in server_params.values():\n",
    "        p.requires_grad = False\n",
    "\n",
    "from train_utils import Yogi\n",
    "# server_opt = torch.optim.SGD(server_params.values(), lr=server_lr)\n",
    "beta1 = 0.9\n",
    "beta2 = 0.999\n",
    "server_opt = Yogi(server_params.values(), lr=server_lr,\n",
    "                    beta1=beta1, beta2=beta2)"
   ]
  },
  {
   "cell_type": "code",
   "execution_count": 6,
   "metadata": {},
   "outputs": [],
   "source": [
    "merging_strategy =  args.merging_strategy\n",
    "merger = MergingFactory.get_merging_strategy(merging_strategy, server_model, args=args)\n",
    "scaling_coefficient = 1.0  # no need to change\n",
    "\n",
    "eval_accu = 0\n",
    "def eval_loop(model, loader):\n",
    "    model.eval()\n",
    "    stats_acc = {}\n",
    "    for x,y in loader:\n",
    "        with torch.no_grad():\n",
    "            _, stats = test_batch(model, x, y)\n",
    "        for k,v in stats.items():\n",
    "            stats_acc[k] = stats_acc.get(k, 0) + v\n",
    "    stats_acc['loss'] /= stats_acc['count']\n",
    "    return stats_acc"
   ]
  },
  {
   "cell_type": "code",
   "execution_count": 7,
   "metadata": {},
   "outputs": [],
   "source": [
    "server_batch = 2  # how many clients we use\n",
    "client_lr = 1e-3\n",
    "\n",
    "# clients = [clients[0], clients[1]]  # we take out two loaders to use\n",
    "client_epochs = 6  # local training epochs; in standard FL setting, this is 1\n",
    "l2_clip_norm = 0."
   ]
  },
  {
   "cell_type": "markdown",
   "metadata": {},
   "source": [
    "The following cell only finetunes two models, without merging. A simple FL setup can be recovered by increasing the global rounds and adding the merging code in the training loop."
   ]
  },
  {
   "cell_type": "code",
   "execution_count": 8,
   "metadata": {},
   "outputs": [],
   "source": [
    "ft_distances = [[], []]\n",
    "between_distances = []\n",
    "checkpoints = [[], []]"
   ]
  },
  {
   "cell_type": "code",
   "execution_count": 16,
   "metadata": {},
   "outputs": [
    {
     "name": "stderr",
     "output_type": "stream",
     "text": [
      "eval: 0 | client 0, epoch 0 | loss 0.0962:   0%|          | 0/1 [00:00<?, ?it/s]"
     ]
    },
    {
     "name": "stdout",
     "output_type": "stream",
     "text": [
      "Accuracy is 0.9514563106796117\n"
     ]
    },
    {
     "name": "stderr",
     "output_type": "stream",
     "text": [
      "eval: 0 | client 0, epoch 1 | loss 0.0831:   0%|          | 0/1 [00:01<?, ?it/s]"
     ]
    },
    {
     "name": "stdout",
     "output_type": "stream",
     "text": [
      "Accuracy is 0.9805825242718447\n"
     ]
    },
    {
     "name": "stderr",
     "output_type": "stream",
     "text": [
      "eval: 0 | client 0, epoch 2 | loss 0.0073:   0%|          | 0/1 [00:02<?, ?it/s]"
     ]
    },
    {
     "name": "stdout",
     "output_type": "stream",
     "text": [
      "Accuracy is 1.0\n"
     ]
    },
    {
     "name": "stderr",
     "output_type": "stream",
     "text": [
      "eval: 0 | client 0, epoch 3 | loss 0.0031:   0%|          | 0/1 [00:04<?, ?it/s]"
     ]
    },
    {
     "name": "stdout",
     "output_type": "stream",
     "text": [
      "Accuracy is 1.0\n"
     ]
    },
    {
     "name": "stderr",
     "output_type": "stream",
     "text": [
      "eval: 0 | client 0, epoch 4 | loss 0.0006:   0%|          | 0/1 [00:05<?, ?it/s]"
     ]
    },
    {
     "name": "stdout",
     "output_type": "stream",
     "text": [
      "Accuracy is 1.0\n"
     ]
    },
    {
     "name": "stderr",
     "output_type": "stream",
     "text": [
      "eval: 0 | client 0, epoch 5 | loss 0.0001:   0%|          | 0/1 [00:06<?, ?it/s]"
     ]
    },
    {
     "name": "stdout",
     "output_type": "stream",
     "text": [
      "Accuracy is 1.0\n"
     ]
    },
    {
     "name": "stderr",
     "output_type": "stream",
     "text": [
      "eval: 0 | client 1, epoch 0 | loss 0.0387:   0%|          | 0/1 [00:07<?, ?it/s]"
     ]
    },
    {
     "name": "stdout",
     "output_type": "stream",
     "text": [
      "Accuracy is 0.9518072289156626\n"
     ]
    },
    {
     "name": "stderr",
     "output_type": "stream",
     "text": [
      "eval: 0 | client 1, epoch 1 | loss 0.0033:   0%|          | 0/1 [00:08<?, ?it/s]"
     ]
    },
    {
     "name": "stdout",
     "output_type": "stream",
     "text": [
      "Accuracy is 1.0\n"
     ]
    },
    {
     "name": "stderr",
     "output_type": "stream",
     "text": [
      "eval: 0 | client 1, epoch 2 | loss 0.0046:   0%|          | 0/1 [00:09<?, ?it/s]"
     ]
    },
    {
     "name": "stdout",
     "output_type": "stream",
     "text": [
      "Accuracy is 1.0\n"
     ]
    },
    {
     "name": "stderr",
     "output_type": "stream",
     "text": [
      "eval: 0 | client 1, epoch 3 | loss 0.0013:   0%|          | 0/1 [00:10<?, ?it/s]"
     ]
    },
    {
     "name": "stdout",
     "output_type": "stream",
     "text": [
      "Accuracy is 1.0\n"
     ]
    },
    {
     "name": "stderr",
     "output_type": "stream",
     "text": [
      "eval: 0 | client 1, epoch 4 | loss 0.0001:   0%|          | 0/1 [00:10<?, ?it/s]"
     ]
    },
    {
     "name": "stdout",
     "output_type": "stream",
     "text": [
      "Accuracy is 1.0\n"
     ]
    },
    {
     "name": "stderr",
     "output_type": "stream",
     "text": [
      "eval: 0 | client 1, epoch 5 | loss 0.0001:   0%|          | 0/1 [00:11<?, ?it/s]"
     ]
    },
    {
     "name": "stdout",
     "output_type": "stream",
     "text": [
      "Accuracy is 1.0\n"
     ]
    },
    {
     "name": "stderr",
     "output_type": "stream",
     "text": [
      "eval: 0 | client 1, epoch 5 | loss 0.0001: 100%|██████████| 1/1 [00:12<00:00, 12.39s/it]\n"
     ]
    }
   ],
   "source": [
    "merging_strategy = 'average'\n",
    "\n",
    "rounds = 1\n",
    "\n",
    "pbar = tqdm(range(rounds))\n",
    "\n",
    "# select two \n",
    "client_ids = [0, 1]\n",
    "client_loaders = [clients[i] for i in client_ids]\n",
    "\n",
    "# client_loaders = clients\n",
    "\n",
    "for round_idx, rnd in enumerate(pbar):\n",
    "    # # radomly select some\n",
    "    # client_ids = torch.randperm(len(clients))[:server_batch]\n",
    "    # client_loaders = [clients[i] for i in client_ids]\n",
    "\n",
    "    neg_client_deltas = []\n",
    "    stats_acc = {}\n",
    "    client_models = [deepcopy(server_model) for _ in range(len(client_ids))]\n",
    "    # for fisher_merging, regmean_merging, the weights will be normalized\n",
    "    # again in the merging function\n",
    "    # for ties_merging, currently the average_weights are not passed to the merging function;\n",
    "    # we can only change the scaling coefficient \n",
    "    average_weights = torch.Tensor([len(client_loader) for client_loader in client_loaders])\n",
    "    if merging_strategy in ['average', 'fisher_merging', 'regmean_merging']:\n",
    "        average_weights = average_weights / average_weights.sum()\n",
    "    elif merging_strategy in ['ties_merging', \"task_arthmetic\"]:\n",
    "        average_weights.fill_(1.0)  # use 1.0 for all clients, default option for now\n",
    "    nums_fisher_examples = torch.Tensor([(len(client_loader)-1)*client_loader.batch_size for client_loader in client_loaders])\n",
    "    nums_regmean_examples = nums_fisher_examples.clone()\n",
    "    # clients_this_round = server_batch  # record the number of clients for this round\n",
    "\n",
    "\n",
    "    for i, client_id in enumerate(client_ids):\n",
    "        # Download Model\n",
    "        client_model = client_models[i]\n",
    "        client_model.to(device)\n",
    "\n",
    "        # Local Training\n",
    "        # client_opt = torch.optim.SGD(client_model.parameters(), lr=client_lr, momentum=0.9)\n",
    "        client_opt = torch.optim.Adam(client_model.parameters(), lr=client_lr)\n",
    "        client_loader = clients[client_id]\n",
    "        client_acc = {}\n",
    "        \n",
    "        # use lr scheduler\n",
    "        # scheduler = torch.optim.lr_scheduler.CosineAnnealingLR(client_opt, T_max=client_epochs)\n",
    "        # scheduler = torch.optim.lr_scheduler.MultiStepLR(client_opt, milestones=[20], gamma=0.1)\n",
    "        \n",
    "        for epoch in range(client_epochs):\n",
    "            for x,y in client_loader:\n",
    "                loss, stats = test_batch(client_model, x, y)\n",
    "                \n",
    "                client_opt.zero_grad()\n",
    "                loss.backward()\n",
    "\n",
    "                if l2_clip_norm > 0:\n",
    "                    torch.nn.utils.clip_grad_norm_(client_model.parameters(), l2_clip_norm)\n",
    "\n",
    "                client_opt.step()\n",
    "                # scheduler.step()\n",
    "\n",
    "                for k,v in stats.items():\n",
    "                    client_acc[k] = client_acc.get(k, 0) + v\n",
    "                pbar.set_description(f\"eval: {eval_accu} | client {i}, epoch {epoch} | loss {loss:.4f}\")\n",
    "                \n",
    "            if epoch % 1 == 0:\n",
    "                eval_model = deepcopy(client_model)\n",
    "                eval_model.to(device)\n",
    "                eval_results = eval_loop(eval_model, client_loader)\n",
    "                print(\"Accuracy is {}\".format(get_metric(eval_results, \"accu\")))\n",
    "                # if epoch % 10 == 0:\n",
    "                #     # test OOD accuracy\n",
    "                #     # eval_results = eval_loop(eval_model, client_loaders[i^1])\n",
    "                #     # print(\"OOD Accuracy is {}\".format(get_metric(eval_results, \"accu\")))\n",
    "                #     # save models        \n",
    "                #     checkpoints[i].append(deepcopy(client_model).to(\"cpu\"))\n",
    "            \n",
    "            # record distance\n",
    "            ft_distances[i].append(get_distance(client_model.to(\"cpu\"), orig_server_model).item())\n",
    "            client_model.to(device)\n",
    "\n",
    "        # This is our delta parameter\n",
    "        client_model.to(\"cpu\")  # move to cpu to save memory\n",
    "        neg_client_delta = {\n",
    "            n: server_params[n].data - cp.data for n,cp \n",
    "                            in client_model.named_parameters() if cp.requires_grad\n",
    "        }\n",
    "        neg_client_deltas.append(neg_client_delta)\n",
    "\n",
    "        # Log last iteration\n",
    "        client_acc['norm'] = 0\n",
    "        for k,v in client_acc.items():\n",
    "            stats_acc[k] = stats_acc.get(k, 0) + v\n",
    "\n",
    "    # # merging\n",
    "    # average_weights = torch.Tensor([len(client_loader) for client_loader in client_loaders])\n",
    "    # if merging_strategy in ['average', 'fisher_merging', 'regmean_merging']:\n",
    "    #     average_weights = average_weights / average_weights.sum()\n",
    "    # elif merging_strategy in ['ties_merging', \"task_arthmetic\"]:\n",
    "    #     average_weights.fill_(1.0)  # use 1.0 for all clients, default option for now\n",
    "\n",
    "    # aggregated_update = merger.aggregate_updates(neg_client_deltas,\n",
    "    #                                                 average_weights=average_weights,  # for regeman/fisher we can use, e.g., torch.tensor([4, 1])\n",
    "    #                                                 scaling_coefficient=scaling_coefficient,\n",
    "    #                                                 client_loaders=client_loaders,\n",
    "    #                                                 test_batch=test_batch,\n",
    "    #                                                 nums_fisher_examples=nums_fisher_examples,\n",
    "    #                                                 nums_regmean_examples=nums_regmean_examples,\n",
    "    #                                                 device=device,\n",
    "    #                                                 normalize_fisher_weight=True,\n",
    "    #                                                 minimal_fisher_weight = 1e-6)\n",
    "    # merger.update_server_model(aggregated_update, server_opt)\n",
    "    # # evaluation\n",
    "    # eval_model = deepcopy(server_model)\n",
    "    # eval_model.to(device)\n",
    "\n",
    "    # print(f\"Evaluation for Round {round_idx}\")\n",
    "    # for client_loader in client_loaders:\n",
    "    #     eval_results = eval_loop(eval_model, client_loader)\n",
    "    #     print(get_metric(eval_results, \"accu\"))\n",
    "    \n",
    "    # eval_results = eval_loop(eval_model, valloader)\n",
    "    # print(f\"Evaluation for Round {round_idx}\")\n",
    "    # print(get_metric(eval_results, \"accu\"))"
   ]
  },
  {
   "cell_type": "code",
   "execution_count": 12,
   "metadata": {},
   "outputs": [
    {
     "data": {
      "text/plain": [
       "Parameter containing:\n",
       "tensor([[ 0.0403,  0.0024,  0.0250,  ..., -0.0416,  0.0059, -0.0153],\n",
       "        [ 0.0382, -0.0182, -0.0390,  ...,  0.0248,  0.0239, -0.0067],\n",
       "        [ 0.0290,  0.0183,  0.0318,  ..., -0.0025, -0.0159,  0.0228],\n",
       "        ...,\n",
       "        [-0.0224, -0.0411,  0.0119,  ..., -0.0406, -0.0014, -0.0172],\n",
       "        [-0.0007, -0.0424, -0.0072,  ..., -0.0106,  0.0122, -0.0162],\n",
       "        [-0.0081,  0.0030,  0.0068,  ..., -0.0071,  0.0383,  0.0098]],\n",
       "       requires_grad=True)"
      ]
     },
     "execution_count": 12,
     "metadata": {},
     "output_type": "execute_result"
    }
   ],
   "source": [
    "server_model.transformer.h[0].attn.c_attn.lora_A.default.weight"
   ]
  },
  {
   "cell_type": "code",
   "execution_count": 22,
   "metadata": {},
   "outputs": [
    {
     "name": "stdout",
     "output_type": "stream",
     "text": [
      "293.2576904296875\n",
      "346.666015625\n",
      "347.8883972167969\n",
      "348.7913818359375\n",
      "349.5709533691406\n",
      "331.12005615234375\n",
      "348.4221496582031\n",
      "350.11932373046875\n",
      "351.3020935058594\n",
      "352.3476867675781\n"
     ]
    }
   ],
   "source": [
    "for client_0, client_1 in zip(checkpoints[0], checkpoints[1]):\n",
    "    distance = get_distance(client_0, client_1).item()\n",
    "    print(distance)"
   ]
  },
  {
   "cell_type": "code",
   "execution_count": 25,
   "metadata": {},
   "outputs": [
    {
     "name": "stdout",
     "output_type": "stream",
     "text": [
      "Evaluation for Round 0\n",
      "0.6990291262135923\n",
      "0.060240963855421686\n"
     ]
    }
   ],
   "source": [
    "# server model\n",
    "cur_server_model = deepcopy(orig_server_model)\n",
    "cur_server_params = {n:p for n,p in cur_server_model.named_parameters() if p.requires_grad}\n",
    "cur_server_opt = Yogi(cur_server_params.values(), lr=server_lr,\n",
    "                    beta1=beta1, beta2=beta2)\n",
    "\n",
    "ckpt_idx = 5\n",
    "client_0, client_1 = checkpoints[0][ckpt_idx], checkpoints[1][ckpt_idx]\n",
    "\n",
    "cur_neg_client_deltas = []\n",
    "cur_neg_client_delta = {\n",
    "    n: cur_server_params[n].data - cp.data for n,cp \n",
    "                    in client_0.named_parameters() if cp.requires_grad\n",
    "}\n",
    "cur_neg_client_deltas.append(cur_neg_client_delta)\n",
    "cur_neg_client_delta = {\n",
    "    n: cur_server_params[n].data - cp.data for n,cp \n",
    "                    in client_1.named_parameters() if cp.requires_grad\n",
    "}\n",
    "cur_neg_client_deltas.append(cur_neg_client_delta)\n",
    "\n",
    "# merging\n",
    "merging_strategy = \"average\"\n",
    "average_weights = torch.Tensor([len(client_loader) for client_loader in client_loaders])\n",
    "if merging_strategy in ['average', 'fisher_merging', 'regmean_merging']:\n",
    "    average_weights = average_weights / average_weights.sum()\n",
    "elif merging_strategy in ['ties_merging', \"task_arthmetic\"]:\n",
    "    average_weights.fill_(1.0)  # use 1.0 for all clients, default option for now\n",
    "\n",
    "# average_weights = torch.tensor([1, 1.2])\n",
    "# average_weights = average_weights / average_weights.sum()\n",
    "# average_weights = torch.tensor([8, 1])\n",
    "# average_weights = average_weights ** 4\n",
    "\n",
    "merger = MergingFactory.get_merging_strategy(merging_strategy, cur_server_model, args=args)\n",
    "aggregated_update = merger.aggregate_updates(cur_neg_client_deltas,\n",
    "                                                average_weights=average_weights,  # for regeman/fisher we can use, e.g., torch.tensor([4, 1])\n",
    "                                                scaling_coefficient=scaling_coefficient,\n",
    "                                                client_loaders=client_loaders,\n",
    "                                                test_batch=test_batch,\n",
    "                                                nums_fisher_examples=nums_fisher_examples,\n",
    "                                                nums_regmean_examples=nums_regmean_examples,\n",
    "                                                device=device,\n",
    "                                                normalize_fisher_weight=True,\n",
    "                                                minimal_fisher_weight = 1e-6)\n",
    "merger.update_server_model(aggregated_update, cur_server_opt)\n",
    "# evaluation\n",
    "eval_model = deepcopy(cur_server_model)\n",
    "eval_model.to(device)\n",
    "\n",
    "eval_results = eval_loop(eval_model, client_loaders[0])\n",
    "print(f\"Evaluation for Round {round_idx}\")\n",
    "print(get_metric(eval_results, \"accu\"))\n",
    "\n",
    "eval_results = eval_loop(eval_model, client_loaders[1])\n",
    "print(get_metric(eval_results, \"accu\"))"
   ]
  },
  {
   "cell_type": "code",
   "execution_count": 20,
   "metadata": {},
   "outputs": [
    {
     "name": "stdout",
     "output_type": "stream",
     "text": [
      "Evaluation for Round 0\n",
      "0.02912621359223301\n"
     ]
    }
   ],
   "source": [
    "eval_model = deepcopy(server_model)\n",
    "eval_model.to(device)\n",
    "eval_results = eval_loop(eval_model, client_loaders[0])\n",
    "print(f\"Evaluation for Round {round_idx}\")\n",
    "print(get_metric(eval_results, \"accu\"))"
   ]
  },
  {
   "cell_type": "code",
   "execution_count": null,
   "metadata": {},
   "outputs": [],
   "source": []
  },
  {
   "cell_type": "code",
   "execution_count": 9,
   "metadata": {},
   "outputs": [
    {
     "data": {
      "text/plain": [
       "<matplotlib.legend.Legend at 0x703ecd9b2ec0>"
      ]
     },
     "execution_count": 9,
     "metadata": {},
     "output_type": "execute_result"
    },
    {
     "data": {
      "image/png": "[encoded data removed]",
      "text/plain": [
       "<Figure size 640x480 with 1 Axes>"
      ]
     },
     "metadata": {},
     "output_type": "display_data"
    }
   ],
   "source": [
    "plt.plot(ft_distances[0], label=\"Client 0\")\n",
    "plt.plot(ft_distances[1], label=\"Client 1\")\n",
    "plt.legend()"
   ]
  },
  {
   "cell_type": "code",
   "execution_count": 11,
   "metadata": {},
   "outputs": [
    {
     "name": "stdout",
     "output_type": "stream",
     "text": [
      "Evaluation for Round 9\n",
      "0.9029126213592233\n",
      "0.9156626506024096\n",
      "0.8494623655913979\n",
      "0.6486486486486487\n",
      "0.8058252427184466\n",
      "0.7029702970297029\n"
     ]
    }
   ],
   "source": [
    "print(f\"Evaluation for Round {round_idx}\")\n",
    "for client_loader in client_loaders:\n",
    "    eval_results = eval_loop(eval_model, client_loader)\n",
    "    print(get_metric(eval_results, \"accu\"))"
   ]
  },
  {
   "cell_type": "code",
   "execution_count": 12,
   "metadata": {},
   "outputs": [],
   "source": [
    "orig_server_model = deepcopy(server_model)"
   ]
  },
  {
   "cell_type": "code",
   "execution_count": 34,
   "metadata": {},
   "outputs": [
    {
     "data": {
      "text/plain": [
       "Yogi (\n",
       "Parameter Group 0\n",
       "    beta1: 0.9\n",
       "    beta2: 0.999\n",
       "    eps: 1e-08\n",
       "    lr: 0.001\n",
       "    weight_decay: 0\n",
       ")"
      ]
     },
     "execution_count": 34,
     "metadata": {},
     "output_type": "execute_result"
    }
   ],
   "source": [
    "cur_server_opt"
   ]
  },
  {
   "cell_type": "code",
   "execution_count": null,
   "metadata": {},
   "outputs": [
    {
     "name": "stdout",
     "output_type": "stream",
     "text": [
      "Evaluation for Round 0\n",
      "0.5728155339805825\n",
      "0.21686746987951808\n"
     ]
    }
   ],
   "source": [
    "cur_server_model = deepcopy(server_model)  # orig_server_model\n",
    "cur_server_params = {n:p for n,p in cur_server_model.named_parameters() if p.requires_grad}\n",
    "cur_server_opt = Yogi(cur_server_params.values(), lr=server_lr,\n",
    "                    beta1=beta1, beta2=beta2)\n",
    "# cur_server_opt_sd = cur_server_opt.state_dict()\n",
    "# cur_server_opt_sd['state'] = deepcopy(server_opt.state_dict()['state'])\n",
    "# cur_server_opt.load_state_dict(cur_server_opt_sd)\n",
    "\n",
    "# merging\n",
    "merging_strategy = \"average\"\n",
    "average_weights = torch.Tensor([len(client_loader) for client_loader in client_loaders])\n",
    "if merging_strategy in ['average', 'fisher_merging', 'regmean_merging']:\n",
    "    average_weights = average_weights / average_weights.sum()\n",
    "elif merging_strategy in ['ties_merging', \"task_arthmetic\"]:\n",
    "    average_weights.fill_(1.0)  # use 1.0 for all clients, default option for now\n",
    "\n",
    "# average_weights = torch.tensor([1, 1.2])\n",
    "# average_weights = average_weights / average_weights.sum()\n",
    "# average_weights = torch.tensor([8, 1])\n",
    "# average_weights = average_weights ** 4\n",
    "\n",
    "merger = MergingFactory.get_merging_strategy(merging_strategy, cur_server_model, args=args)\n",
    "aggregated_update = merger.aggregate_updates(neg_client_deltas,\n",
    "                                                average_weights=average_weights,  # for regeman/fisher we can use, e.g., torch.tensor([4, 1])\n",
    "                                                scaling_coefficient=scaling_coefficient,\n",
    "                                                client_loaders=client_loaders,\n",
    "                                                test_batch=test_batch,\n",
    "                                                nums_fisher_examples=nums_fisher_examples,\n",
    "                                                nums_regmean_examples=nums_regmean_examples,\n",
    "                                                device=device,\n",
    "                                                normalize_fisher_weight=True,\n",
    "                                                minimal_fisher_weight = 1e-6)\n",
    "merger.update_server_model(aggregated_update, cur_server_opt)\n",
    "# evaluation\n",
    "eval_model = deepcopy(cur_server_model)\n",
    "eval_model.to(device)\n",
    "\n",
    "eval_results = eval_loop(eval_model, client_loaders[0])\n",
    "print(f\"Evaluation for Round {round_idx}\")\n",
    "print(get_metric(eval_results, \"accu\"))\n",
    "\n",
    "eval_results = eval_loop(eval_model, client_loaders[1])\n",
    "print(get_metric(eval_results, \"accu\"))"
   ]
  },
  {
   "cell_type": "code",
   "execution_count": 14,
   "metadata": {},
   "outputs": [
    {
     "name": "stdout",
     "output_type": "stream",
     "text": [
      "Evaluation for Round 0\n",
      "0.8543689320388349\n"
     ]
    }
   ],
   "source": [
    "eval_model = deepcopy(cur_server_model)\n",
    "eval_model.to(device)\n",
    "\n",
    "eval_results = eval_loop(eval_model, client_loaders[0])\n",
    "print(f\"Evaluation for Round {round_idx}\")\n",
    "print(get_metric(eval_results, \"accu\"))"
   ]
  },
  {
   "cell_type": "code",
   "execution_count": null,
   "metadata": {},
   "outputs": [
    {
     "name": "stdout",
     "output_type": "stream",
     "text": [
      "Distance between client 0 and server model: 146.1201629638672\n",
      "Distance between client 1 and server model: 161.16949462890625\n"
     ]
    }
   ],
   "source": [
    "# calculate the distance between the client models and the server model=\n",
    "\n",
    "\n",
    "\n",
    "dist_0 = get_distance(client_models[0], orig_server_model)\n",
    "dist_1 = get_distance(client_models[1], orig_server_model)\n",
    "\n",
    "print(f\"Distance between client 0 and server model: {dist_0}\")\n",
    "print(f\"Distance between client 1 and server model: {dist_1}\")"
   ]
  },
  {
   "cell_type": "code",
   "execution_count": 22,
   "metadata": {},
   "outputs": [
    {
     "data": {
      "text/plain": [
       "tensor(349.5710, grad_fn=<AddBackward0>)"
      ]
     },
     "execution_count": 22,
     "metadata": {},
     "output_type": "execute_result"
    }
   ],
   "source": [
    "get_distance(client_models[0], client_models[1])"
   ]
  },
  {
   "cell_type": "code",
   "execution_count": null,
   "metadata": {},
   "outputs": [],
   "source": [
    "# SGD\n",
    "# Distance between client 0 and server model: 8.39322280883789\n",
    "# Distance between client 1 and server model: 21.487966537475586\n",
    "\n",
    "# adam\n",
    "# Distance between client 0 and server model: 125.06092071533203\n",
    "# Distance between client 1 and server model: 126.78553009033203"
   ]
  },
  {
   "cell_type": "code",
   "execution_count": 18,
   "metadata": {},
   "outputs": [
    {
     "name": "stdout",
     "output_type": "stream",
     "text": [
      "Evaluation for Round 0\n",
      "0.02912621359223301\n"
     ]
    }
   ],
   "source": [
    "eval_model = deepcopy(orig_server_model)\n",
    "eval_model.to(device)\n",
    "eval_results = eval_loop(eval_model, client_loaders[0])\n",
    "print(f\"Evaluation for Round {round_idx}\")\n",
    "print(get_metric(eval_results, \"accu\"))"
   ]
  },
  {
   "cell_type": "markdown",
   "metadata": {},
   "source": [
    "check the performances of the finetuned models"
   ]
  },
  {
   "cell_type": "code",
   "execution_count": null,
   "metadata": {},
   "outputs": [
    {
     "data": {
      "text/plain": [
       "0.43037974683544306"
      ]
     },
     "execution_count": 11,
     "metadata": {},
     "output_type": "execute_result"
    }
   ],
   "source": [
    "eval_model = deepcopy(client_models[0])\n",
    "eval_model.to(device)\n",
    "\n",
    "eval_results = eval_loop(eval_model, client_loaders[0])\n",
    "\n",
    "get_metric(eval_results, \"accu\")"
   ]
  },
  {
   "cell_type": "code",
   "execution_count": null,
   "metadata": {},
   "outputs": [
    {
     "data": {
      "text/plain": [
       "0.45348837209302323"
      ]
     },
     "execution_count": 12,
     "metadata": {},
     "output_type": "execute_result"
    }
   ],
   "source": [
    "eval_model = deepcopy(client_models[1])\n",
    "eval_model.to(device)\n",
    "\n",
    "eval_results = eval_loop(eval_model, client_loaders[1])\n",
    "\n",
    "get_metric(eval_results, \"accu\")"
   ]
  },
  {
   "cell_type": "markdown",
   "metadata": {},
   "source": [
    "## merging\n",
    "\n",
    "need to run them all everytime we try a new merging method, because we edit the `cur_server_model` in-place"
   ]
  },
  {
   "cell_type": "code",
   "execution_count": null,
   "metadata": {},
   "outputs": [],
   "source": [
    "# copy the pretraiend model\n",
    "cur_server_model = deepcopy(orig_server_model)\n",
    "cur_server_params = {n:p for n,p in cur_server_model.named_parameters() if p.requires_grad}\n",
    "cur_server_opt = torch.optim.SGD(cur_server_params.values(), lr=server_lr)"
   ]
  },
  {
   "cell_type": "code",
   "execution_count": null,
   "metadata": {},
   "outputs": [],
   "source": [
    "# prepare for merging\n",
    "merging_strategy = \"average\"\n",
    "merger = MergingFactory.get_merging_strategy(merging_strategy, cur_server_model, args=args)  # average, task_arithmetic, fisher_merging, ties_merging, regmean_merging\n",
    "scaling_coefficient = 1.  # controls how far we want to go in the direction of the aggregated task vector, only used in task arithmetic\n",
    "param_value_mask_rate = 0.5  # controls how much parameters we want to prune/drop in ties-merging (and dare)"
   ]
  },
  {
   "cell_type": "code",
   "execution_count": null,
   "metadata": {},
   "outputs": [],
   "source": [
    "# merging\n",
    "average_weights = torch.Tensor([len(client_loader) for client_loader in client_loaders])\n",
    "if merging_strategy in ['average', 'fisher_merging', 'regmean_merging']:\n",
    "    average_weights = average_weights / average_weights.sum()\n",
    "elif merging_strategy in ['ties_merging', \"task_arthmetic\"]:\n",
    "    average_weights.fill_(1.0)  # use 1.0 for all clients, default option for now\n",
    "\n",
    "aggregated_update = merger.aggregate_updates(neg_client_deltas,\n",
    "                                                average_weights=average_weights,  # for regeman/fisher we can use, e.g., torch.tensor([4, 1])\n",
    "                                                scaling_coefficient=scaling_coefficient,\n",
    "                                                client_loaders=client_loaders,\n",
    "                                                test_batch=test_batch,\n",
    "                                                nums_fisher_examples=nums_fisher_examples,\n",
    "                                                nums_regmean_examples=nums_regmean_examples,\n",
    "                                                device=device,\n",
    "                                                normalize_fisher_weight=True,\n",
    "                                                minimal_fisher_weight = 1e-6,\n",
    "                                                param_value_mask_rate= param_value_mask_rate)\n",
    "merger.update_server_model(aggregated_update, cur_server_opt)"
   ]
  },
  {
   "cell_type": "code",
   "execution_count": null,
   "metadata": {},
   "outputs": [
    {
     "name": "stdout",
     "output_type": "stream",
     "text": [
      "0.28270042194092826\n",
      "0.01744186046511628\n"
     ]
    }
   ],
   "source": [
    "# evaluation\n",
    "eval_model = deepcopy(cur_server_model)\n",
    "eval_model.to(device)\n",
    "\n",
    "eval_results = eval_loop(eval_model, client_loaders[0])\n",
    "print(get_metric(eval_results, \"accu\"))\n",
    "\n",
    "eval_results = eval_loop(eval_model, client_loaders[1])\n",
    "print(get_metric(eval_results, \"accu\"))"
   ]
  },
  {
   "cell_type": "code",
   "execution_count": null,
   "metadata": {},
   "outputs": [],
   "source": [
    "# non-weighted average\n",
    "# 0.620253164556962\n",
    "# 0.8953488372093024\n",
    "\n",
    "# weighted average\n",
    "# 0.9282700421940928\n",
    "# 0.563953488372093\n",
    "\n",
    "# non-weighted fisher\n",
    "# 0.0970464135021097\n",
    "# 1.0\n",
    "\n",
    "# non-weighted fisher\n",
    "# 0.1940928270042194\n",
    "# 0.9941860465116279\n",
    "\n",
    "# weighted fisher\n",
    "# 0.25316455696202533\n",
    "# 0.9883720930232558\n",
    "\n",
    "# weighted regmean\n",
    "# 0.8016877637130801\n",
    "# 0.9593023255813954\n",
    "\n",
    "# non-weighted ties \n",
    "# 0.70042194092827\n",
    "# 0.38953488372093026\n"
   ]
  }
 ],
 "metadata": {
  "kernelspec": {
   "display_name": "flasc",
   "language": "python",
   "name": "python3"
  },
  "language_info": {
   "codemirror_mode": {
    "name": "ipython",
    "version": 3
   },
   "file_extension": ".py",
   "mimetype": "text/x-python",
   "name": "python",
   "nbconvert_exporter": "python",
   "pygments_lexer": "ipython3",
   "version": "3.10.14"
  }
 },
 "nbformat": 4,
 "nbformat_minor": 2
}
